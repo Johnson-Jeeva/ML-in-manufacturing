{
  "nbformat": 4,
  "nbformat_minor": 0,
  "metadata": {
    "colab": {
      "provenance": [],
      "authorship_tag": "ABX9TyNwitsZMPGV58/5WPXhsvQj",
      "include_colab_link": true
    },
    "kernelspec": {
      "name": "python3",
      "display_name": "Python 3"
    },
    "language_info": {
      "name": "python"
    }
  },
  "cells": [
    {
      "cell_type": "markdown",
      "metadata": {
        "id": "view-in-github",
        "colab_type": "text"
      },
      "source": [
        "<a href=\"https://colab.research.google.com/github/Johnson-Jeeva/ML-in-manufacturing/blob/main/Code/Ex11.1MLRCode.ipynb\" target=\"_parent\"><img src=\"https://colab.research.google.com/assets/colab-badge.svg\" alt=\"Open In Colab\"/></a>"
      ]
    },
    {
      "cell_type": "code",
      "source": [
        "import pandas as pd\n",
        "from sklearn.linear_model import LinearRegression\n",
        "from sklearn.metrics import r2_score, mean_squared_error\n",
        "from sklearn.model_selection import train_test_split\n",
        "import numpy as np\n",
        "import matplotlib.pyplot as plt\n",
        "import statsmodels.api as sm\n",
        "from statsmodels.tools import add_constant"
      ],
      "metadata": {
        "id": "ECniEOeEIBxy"
      },
      "execution_count": 1,
      "outputs": []
    },
    {
      "cell_type": "code",
      "source": [
        "df = pd.read_excel(\"/content/Exercise 11.1 MLR.xlsx\")"
      ],
      "metadata": {
        "id": "4LVVHGixIL0j"
      },
      "execution_count": 2,
      "outputs": []
    },
    {
      "cell_type": "code",
      "source": [
        "target = \"IB\"\n",
        "X = df.drop(columns=[target])\n",
        "y = df[target]"
      ],
      "metadata": {
        "id": "CZ-cymiAILrJ"
      },
      "execution_count": 3,
      "outputs": []
    },
    {
      "cell_type": "code",
      "source": [
        "X_train, X_val, y_train, y_val = train_test_split(X, y, test_size=0.3, random_state=42)\n",
        "X_train_const = sm.add_constant(X_train)\n",
        "X_val_const = sm.add_constant(X_val)"
      ],
      "metadata": {
        "id": "kpgZuYvBIV8-"
      },
      "execution_count": 4,
      "outputs": []
    },
    {
      "cell_type": "code",
      "source": [
        "model = sm.OLS(y_train, X_train_const).fit()\n",
        "y_pred = model.predict(X_val_const)"
      ],
      "metadata": {
        "id": "cWeo7HBIOHc6"
      },
      "execution_count": 5,
      "outputs": []
    },
    {
      "cell_type": "code",
      "source": [
        "r2 = r2_score(y_val, y_pred)\n",
        "rmse = np.sqrt(mean_squared_error(y_val, y_pred))\n",
        "\n",
        "print(\"Validation R²:\", round(r2, 4))\n",
        "print(\"Validation RMSE:\", round(rmse, 4))\n",
        "\n",
        "print(model.summary())"
      ],
      "metadata": {
        "id": "QCCEDm8sOLS-",
        "outputId": "7068f25a-95c4-4956-ffe2-6426efe5e9a7",
        "colab": {
          "base_uri": "https://localhost:8080/"
        }
      },
      "execution_count": 6,
      "outputs": [
        {
          "output_type": "stream",
          "name": "stdout",
          "text": [
            "Validation R²: 0.7995\n",
            "Validation RMSE: 2.4763\n",
            "                            OLS Regression Results                            \n",
            "==============================================================================\n",
            "Dep. Variable:                     IB   R-squared:                       0.821\n",
            "Model:                            OLS   Adj. R-squared:                  0.744\n",
            "Method:                 Least Squares   F-statistic:                     10.69\n",
            "Date:                Thu, 26 Jun 2025   Prob (F-statistic):           0.000152\n",
            "Time:                        23:30:13   Log-Likelihood:                -45.938\n",
            "No. Observations:                  21   AIC:                             105.9\n",
            "Df Residuals:                      14   BIC:                             113.2\n",
            "Df Model:                           6                                         \n",
            "Covariance Type:            nonrobust                                         \n",
            "==============================================================================\n",
            "                 coef    std err          t      P>|t|      [0.025      0.975]\n",
            "------------------------------------------------------------------------------\n",
            "const         84.4385     21.061      4.009      0.001      39.266     129.611\n",
            "Form 1        -0.1041      0.158     -0.659      0.521      -0.443       0.235\n",
            "Form 2         0.0673      0.095      0.705      0.493      -0.138       0.272\n",
            "Weight         0.0055      0.089      0.062      0.952      -0.185       0.196\n",
            "Resin         -2.7329      0.519     -5.268      0.000      -3.846      -1.620\n",
            "Temp          -0.4034      0.155     -2.601      0.021      -0.736      -0.071\n",
            "Speed          0.3506      0.187      1.880      0.081      -0.049       0.751\n",
            "==============================================================================\n",
            "Omnibus:                        0.830   Durbin-Watson:                   2.554\n",
            "Prob(Omnibus):                  0.660   Jarque-Bera (JB):                0.083\n",
            "Skew:                          -0.079   Prob(JB):                        0.959\n",
            "Kurtosis:                       3.264   Cond. No.                     9.74e+03\n",
            "==============================================================================\n",
            "\n",
            "Notes:\n",
            "[1] Standard Errors assume that the covariance matrix of the errors is correctly specified.\n",
            "[2] The condition number is large, 9.74e+03. This might indicate that there are\n",
            "strong multicollinearity or other numerical problems.\n"
          ]
        }
      ]
    },
    {
      "cell_type": "code",
      "source": [
        "X1 = add_constant(X)\n",
        "model = sm.OLS(y, X1).fit()\n",
        "\n",
        "print(model.summary())"
      ],
      "metadata": {
        "id": "MImxzFYkLZTT",
        "outputId": "1748089b-5987-48ee-aee4-a709069d99d9",
        "colab": {
          "base_uri": "https://localhost:8080/"
        }
      },
      "execution_count": 7,
      "outputs": [
        {
          "output_type": "stream",
          "name": "stdout",
          "text": [
            "                            OLS Regression Results                            \n",
            "==============================================================================\n",
            "Dep. Variable:                     IB   R-squared:                       0.847\n",
            "Model:                            OLS   Adj. R-squared:                  0.809\n",
            "Method:                 Least Squares   F-statistic:                     22.21\n",
            "Date:                Thu, 26 Jun 2025   Prob (F-statistic):           1.07e-08\n",
            "Time:                        23:30:28   Log-Likelihood:                -66.205\n",
            "No. Observations:                  31   AIC:                             146.4\n",
            "Df Residuals:                      24   BIC:                             156.4\n",
            "Df Model:                           6                                         \n",
            "Covariance Type:            nonrobust                                         \n",
            "==============================================================================\n",
            "                 coef    std err          t      P>|t|      [0.025      0.975]\n",
            "------------------------------------------------------------------------------\n",
            "const        101.9558     12.277      8.305      0.000      76.618     127.294\n",
            "Form 1        -0.2184      0.099     -2.216      0.036      -0.422      -0.015\n",
            "Form 2        -0.0195      0.066     -0.295      0.771      -0.156       0.117\n",
            "Weight        -0.0750      0.055     -1.365      0.185      -0.188       0.038\n",
            "Resin         -2.6401      0.385     -6.849      0.000      -3.436      -1.845\n",
            "Temp          -0.3672      0.121     -3.046      0.006      -0.616      -0.118\n",
            "Speed          0.3046      0.137      2.220      0.036       0.021       0.588\n",
            "==============================================================================\n",
            "Omnibus:                        2.508   Durbin-Watson:                   1.741\n",
            "Prob(Omnibus):                  0.285   Jarque-Bera (JB):                1.352\n",
            "Skew:                          -0.092   Prob(JB):                        0.509\n",
            "Kurtosis:                       4.007   Cond. No.                     7.79e+03\n",
            "==============================================================================\n",
            "\n",
            "Notes:\n",
            "[1] Standard Errors assume that the covariance matrix of the errors is correctly specified.\n",
            "[2] The condition number is large, 7.79e+03. This might indicate that there are\n",
            "strong multicollinearity or other numerical problems.\n"
          ]
        }
      ]
    }
  ]
}